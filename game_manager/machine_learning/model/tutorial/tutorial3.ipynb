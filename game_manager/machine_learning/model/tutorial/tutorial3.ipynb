{
 "cells": [
  {
   "cell_type": "markdown",
   "id": "2543848f",
   "metadata": {},
   "source": [
    "# チュートリアル3: ブロックの配置の決定方法を理解しよう\n",
    "\n",
    "## このノードブックの目的\n",
    "- AIモデルの推論からブロックの配置の決定までの流れを理解する。"
   ]
  },
  {
   "cell_type": "markdown",
   "id": "b07fbc3b",
   "metadata": {},
   "source": [
    "### チュートリアル 1,2と同じくブロックを可視化する関数とサンプル用テストデータを定義しましょう."
   ]
  },
  {
   "cell_type": "markdown",
   "id": "a02977e0",
   "metadata": {},
   "source": [
    "## 0.1. matplotlibのインストール \n",
    "可視化用のライブラリ[matplotlib](https://matplotlib.org/stable/api/_as_gen/matplotlib.pyplot.html)をインストールします。"
   ]
  },
  {
   "cell_type": "code",
   "execution_count": 2,
   "id": "885e03e4",
   "metadata": {
    "scrolled": true
   },
   "outputs": [
    {
     "name": "stdout",
     "output_type": "stream",
     "text": [
      "Requirement already satisfied: matplotlib in /Users/ishibushisatoshi/tetris/.venv/lib/python3.7/site-packages (3.5.2)\n",
      "Requirement already satisfied: packaging>=20.0 in /Users/ishibushisatoshi/tetris/.venv/lib/python3.7/site-packages (from matplotlib) (21.3)\n",
      "Requirement already satisfied: kiwisolver>=1.0.1 in /Users/ishibushisatoshi/tetris/.venv/lib/python3.7/site-packages (from matplotlib) (1.4.4)\n",
      "Requirement already satisfied: python-dateutil>=2.7 in /Users/ishibushisatoshi/tetris/.venv/lib/python3.7/site-packages (from matplotlib) (2.8.2)\n",
      "Requirement already satisfied: cycler>=0.10 in /Users/ishibushisatoshi/tetris/.venv/lib/python3.7/site-packages (from matplotlib) (0.11.0)\n",
      "Requirement already satisfied: pyparsing>=2.2.1 in /Users/ishibushisatoshi/tetris/.venv/lib/python3.7/site-packages (from matplotlib) (3.0.9)\n",
      "Requirement already satisfied: fonttools>=4.22.0 in /Users/ishibushisatoshi/tetris/.venv/lib/python3.7/site-packages (from matplotlib) (4.34.4)\n",
      "Requirement already satisfied: numpy>=1.17 in /Users/ishibushisatoshi/tetris/.venv/lib/python3.7/site-packages (from matplotlib) (1.21.6)\n",
      "Requirement already satisfied: pillow>=6.2.0 in /Users/ishibushisatoshi/tetris/.venv/lib/python3.7/site-packages (from matplotlib) (9.2.0)\n",
      "Requirement already satisfied: typing-extensions in /Users/ishibushisatoshi/tetris/.venv/lib/python3.7/site-packages (from kiwisolver>=1.0.1->matplotlib) (4.3.0)\n",
      "Requirement already satisfied: six>=1.5 in /Users/ishibushisatoshi/tetris/.venv/lib/python3.7/site-packages (from python-dateutil>=2.7->matplotlib) (1.16.0)\n",
      "\u001b[33mWARNING: You are using pip version 21.1; however, version 22.2.1 is available.\n",
      "You should consider upgrading via the '/Users/ishibushisatoshi/tetris/.venv/bin/python3.7 -m pip install --upgrade pip' command.\u001b[0m\n"
     ]
    }
   ],
   "source": [
    "!pip install matplotlib"
   ]
  },
  {
   "cell_type": "code",
   "execution_count": 3,
   "id": "9f8cbeb7",
   "metadata": {},
   "outputs": [],
   "source": [
    "%matplotlib inline\n",
    "import matplotlib.pyplot as plt"
   ]
  },
  {
   "cell_type": "markdown",
   "id": "2ccf72fa",
   "metadata": {},
   "source": [
    "## 0.2. サンプル用テストデータの準備\n",
    "- AIモデルに入力するサンプル用テストデータをロードします。\n",
    "- チュートリアルとして10パターンのテストデータを格納した .npz ファイルを用意しています。"
   ]
  },
  {
   "cell_type": "code",
   "execution_count": 5,
   "id": "723cef9b",
   "metadata": {},
   "outputs": [],
   "source": [
    "import numpy as np\n",
    "tutorial_data = np.load(\"./test_data10.npz\") #1~10までのサンプル用状態データをロード"
   ]
  },
  {
   "cell_type": "code",
   "execution_count": 6,
   "id": "6049f2a6",
   "metadata": {},
   "outputs": [
    {
     "data": {
      "image/png": "[encoded data removed]",
      "text/plain": [
       "<Figure size 792x360 with 1 Axes>"
      ]
     },
     "metadata": {
      "needs_background": "light"
     },
     "output_type": "display_data"
    }
   ],
   "source": [
    "colors = [[255,255,255],\n",
    "          [255,0,0],\n",
    "          [0,255,0],\n",
    "          [255,255,0], \n",
    "          [218, 179, 0],\n",
    "          [247, 171, 166],\n",
    "          [0,0,255],\n",
    "          [255,255,0]]\n",
    "\n",
    "#ブロック可視化関数 (numpy 配列からテトリスの盤面を可視化)\n",
    "def visualize_block(data, shape, size=0.5):\n",
    "    block_array = []\n",
    "    fig, ax = plt.subplots()\n",
    "    fig.set_figwidth(shape[0] * size)\n",
    "    fig.set_figheight(shape[1] * size)\n",
    "    for i in range(shape[0]):\n",
    "        row = []\n",
    "        for j in range(shape[1]):\n",
    "            c = colors[int(data[i][j])]\n",
    "            row.append(c)\n",
    "        block_array.append(row)\n",
    "    block_array = np.array(block_array)\n",
    "    im = plt.imshow(block_array)\n",
    "\n",
    "    #グリッド線を引く\n",
    "    ax.set_xticks(np.arange(-0.5, 10, 1), minor=True)\n",
    "    ax.set_yticks(np.arange(-0.5, 23, 1.0), minor=True)\n",
    "    ax.set_xticks(np.arange(-0.5, 10,10))\n",
    "    ax.set_yticks(np.arange(-0.5, 23, 3))\n",
    "    ax.grid(which='minor', color='black', linestyle='-', linewidth=0.5)\n",
    "    ax.grid(which='major', color='black', linestyle='-', linewidth=0.5)\n",
    "    ax.imshow(block_array)\n",
    "    \n",
    "shape = tutorial_data[\"1\"].shape \n",
    "visualize_block(tutorial_data[\"1\"],shape) #サンプル用状態データ１を可視化"
   ]
  },
  {
   "cell_type": "markdown",
   "id": "045ba64c",
   "metadata": {},
   "source": [
    "# 3章 次の状態の価値を推論させてみよう!\n",
    "- サンプル用のコードでは現在の状態（盤面）と次のブロックから次の状態を取得し、それらの次の状態をAIモデルに入力する- \n",
    "- そして、AIモデルの推論結果で最も価値が高いものを次の状態として採用し、そのブロックの置き方（行動）を取る。\n",
    "- 本章では次の状態の取得から、次の行動を取得するまでの流れを示す。"
   ]
  },
  {
   "cell_type": "code",
   "execution_count": 7,
   "id": "336e8987",
   "metadata": {},
   "outputs": [],
   "source": [
    "\n",
    "def getShapeCoordArray(Shape_class, direction, x, y):\n",
    "    coordArray = Shape_class.getCoords(direction, x, y) # get array from shape direction, x, y.\n",
    "    return coordArray\n",
    "\n",
    "\n",
    "# ブロックを配置\n",
    "def dropDown(self, board, Shape_class, direction, x):\n",
    "    dy = board_data_height - 1\n",
    "    coordArray = self.getShapeCoordArray(Shape_class, direction, x, 0)\n",
    "    # update dy\n",
    "    for _x, _y in coordArray:\n",
    "        _yy = 0\n",
    "        while _yy + _y < board_data_height and (_yy + _y < 0 or board[(_y + _yy) * board_data_width + _x] == ShapeNone_index):\n",
    "            _yy += 1\n",
    "        _yy -= 1\n",
    "        if _yy < dy:\n",
    "            dy = _yy\n",
    "    _board = dropDownWithDy(board, Shape_class, direction, x, dy)\n",
    "    return _board\n",
    "\n",
    "\n",
    "# ブロックを配置後の盤面を取得\n",
    "def getBoard(board_backboard, Shape_class, direction, x):\n",
    "    board = copy.deepcopy(board_backboard)\n",
    "    _board = dropDown(board, Shape_class, direction, x)\n",
    "    return _board\n",
    "\n",
    "def get_next_states_v2(curr_backboard,piece_id,CurrentShape_class):\n",
    "    states = {}\n",
    "    if piece_id == 5: \n",
    "        num_rotations = 1\n",
    "    elif piece_id == 1 or piece_id == 6 or piece_id == 7:\n",
    "        num_rotations = 2\n",
    "    else:\n",
    "        num_rotations = 4\n",
    "        \n",
    "    for direction0 in range(num_rotations):\n",
    "        x0Min, x0Max = self.getSearchXRange(CurrentShape_class, direction0)\n",
    "        for x0 in range(x0Min, x0Max):\n",
    "            board = getBoard(curr_backboard, CurrentShape_class, direction0, x0)\n",
    "            reshape_backboard = get_reshape_backboard(board)\n",
    "            reshape_backboard = torch.from_numpy(reshape_backboard[np.newaxis, :, :]).float()\n",
    "            states[(x0, direction0)] = reshape_backboard\n",
    "    return states"
   ]
  },
  {
   "cell_type": "code",
   "execution_count": null,
   "id": "2513a741",
   "metadata": {},
   "outputs": [],
   "source": [
    "# ###index を1~10の番号に変えてみてください###\n",
    "\n",
    "data_index =  1 \n",
    "\n",
    "# #######################################\n",
    "tutorial_data = np.load(\"tutorial_data/test_data10.npz\") #1~10までのサンプル用状態データをロード\n",
    "load_data = tutorial_data[repr(data_index)] \n",
    "shape = load_data.shape\n",
    "visualize_block(load_data ,shape) #データを可視化,curr_piece_id,curr_shape_class)\n",
    "curr_backboard = load_data.flatten()"
   ]
  },
  {
   "cell_type": "code",
   "execution_count": null,
   "id": "3f4f4bbd",
   "metadata": {},
   "outputs": [],
   "source": [
    "import sys\n",
    "sys.path.append(\"../../../\")\n",
    "from board_manager import Shape\n",
    "from board_manager import BOARD_DATA\n",
    "\n",
    "BOARD_DATA.clear()\n",
    "BOARD_DATA.createNewPiece()"
   ]
  }
 ],
 "metadata": {
  "kernelspec": {
   "display_name": "Python 3 (ipykernel)",
   "language": "python",
   "name": "python3"
  },
  "language_info": {
   "codemirror_mode": {
    "name": "ipython",
    "version": 3
   },
   "file_extension": ".py",
   "mimetype": "text/x-python",
   "name": "python",
   "nbconvert_exporter": "python",
   "pygments_lexer": "ipython3",
   "version": "3.7.11"
  }
 },
 "nbformat": 4,
 "nbformat_minor": 5
}
